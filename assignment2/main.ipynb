{
 "cells": [
  {
   "cell_type": "code",
   "execution_count": 607,
   "metadata": {},
   "outputs": [],
   "source": [
    "import numpy as np"
   ]
  },
  {
   "cell_type": "markdown",
   "metadata": {},
   "source": [
    "# generate data"
   ]
  },
  {
   "cell_type": "code",
   "execution_count": 608,
   "metadata": {},
   "outputs": [],
   "source": [
    "# In real-world scenarios, learning how the data was generated is impractical. Do not rely on this function while doing research.\n",
    "def generate_data(dim, num):\n",
    "    x = np.random.normal(0, 10, [num, dim])\n",
    "    coef = np.random.uniform(-1, 1, [dim, 1])\n",
    "    pred = np.dot(x, coef)\n",
    "    pred_n = (pred - np.mean(pred)) / np.sqrt(np.var(pred))\n",
    "    label = np.sign(pred_n)\n",
    "    mislabel_value = np.random.uniform(0, 1, num)\n",
    "    mislabel = 0\n",
    "    for i in range(num):\n",
    "        if np.abs(pred_n[i]) < 1 and mislabel_value[i] > 0.9 + 0.1 * np.abs(pred_n[i]):\n",
    "            label[i] *= -1\n",
    "            mislabel += 1\n",
    "    return x, label, mislabel/num"
   ]
  },
  {
   "cell_type": "markdown",
   "metadata": {},
   "source": [
    "# write your model class"
   ]
  },
  {
   "cell_type": "code",
   "execution_count": 609,
   "metadata": {},
   "outputs": [],
   "source": [
    "from random import randint\n",
    "\n",
    "\n",
    "# Modifying the overall structure is acceptable but not recommended\n",
    "class SVM1:\n",
    "    def __init__(self, dim, tol=1e-4, C=10):\n",
    "        \"\"\"\n",
    "        Adding other parameters is acceptable but not necessary.\n",
    "        \"\"\"\n",
    "        self.dim = dim\n",
    "        self.w, self.b = np.zeros(dim), 0.0\n",
    "        self.C, self.tol = C, tol\n",
    "\n",
    "    def fit(self, X: np.ndarray, y: np.ndarray, eps=1e-4, max_round=10):\n",
    "        \"\"\"\n",
    "        Fit the coefficients via your method1\n",
    "        \"\"\"\n",
    "        N = X.shape[0]\n",
    "        alpha = np.zeros((N, 1))\n",
    "        b = 0.0\n",
    "        K = X @ (X.transpose())\n",
    "        E = np.zeros((N, 1))\n",
    "\n",
    "        def gi(i):\n",
    "            return K[i] @ (alpha * y) + b\n",
    "\n",
    "        def calcE():\n",
    "            nonlocal E\n",
    "            for i in range(N):\n",
    "                E[i] = gi(i) - y[i]\n",
    "\n",
    "        calcE()\n",
    "\n",
    "        def innerLoop(a1: int):\n",
    "            nonlocal b\n",
    "\n",
    "            def randa2():\n",
    "                a2 = randint(0, N - 1)\n",
    "                while a2 == a1:\n",
    "                    a2 = randint(0, N - 1)\n",
    "                return a2\n",
    "\n",
    "            def run(a2: int):\n",
    "                nonlocal b\n",
    "                # calc new alpha1 and alpha2\n",
    "                L, H = 0, 0\n",
    "                if y[a1] != y[a2]:\n",
    "                    L = max(0, alpha[a2] - alpha[a1])\n",
    "                    H = min(self.C, self.C + alpha[a2] - alpha[a1])\n",
    "                else:\n",
    "                    L = max(0, alpha[a2] + alpha[a1] - self.C)\n",
    "                    H = min(self.C, alpha[a2] + alpha[a1])\n",
    "                if L >= H:\n",
    "                    return 0\n",
    "\n",
    "                def trunc(x):\n",
    "                    return H if x > H else (L if x < L else x)\n",
    "\n",
    "                K11, K22, K12 = K[a1][a1], K[a2][a2], K[a1][a2]\n",
    "                eta = K11 + K22 - 2 * K12\n",
    "\n",
    "                alpha2 = trunc(alpha[a2] + y[a2] * (E[a1] - E[a2]) / eta)\n",
    "                alpha1 = alpha[a1] + y[a1] * y[a2] * (alpha[a2] - alpha2)\n",
    "\n",
    "                # calc b\n",
    "                b1new = (\n",
    "                    -E[a1]\n",
    "                    - y[a1] * K11 * (alpha1 - alpha[a1])\n",
    "                    - y[a2] * K12 * (alpha2 - alpha[a2])\n",
    "                    + b\n",
    "                )\n",
    "                b2new = (\n",
    "                    -E[a2]\n",
    "                    - y[a1] * K12 * (alpha1 - alpha[a1])\n",
    "                    - y[a2] * K22 * (alpha2 - alpha[a2])\n",
    "                    + b\n",
    "                )\n",
    "                if abs(alpha[a2] - alpha2) < eps:\n",
    "                    return 0\n",
    "                alpha[a1], alpha[a2] = alpha1, alpha2\n",
    "                if 0 + eps < alpha[a1] < self.C - eps:\n",
    "                    b = b1new\n",
    "                elif 0 + eps < alpha[a2] < self.C - eps:\n",
    "                    b = b2new\n",
    "                else:\n",
    "                    b = (b1new + b2new) / 2.0\n",
    "                calcE()\n",
    "                return 1\n",
    "\n",
    "            a2 = a1\n",
    "            if E[a1] >= 0:\n",
    "                a2 = E.argmin()\n",
    "            else:\n",
    "                a2 = E.argmax()\n",
    "            a2 = int(a2)\n",
    "            if run(a2) == 0:\n",
    "                a2 = randa2()\n",
    "                return run(a2)\n",
    "            else:\n",
    "                return 1\n",
    "\n",
    "\n",
    "        for round in range(max_round):\n",
    "            tried, changed = 0, 0\n",
    "            for i in range(N):\n",
    "                if (y[i] * E[i] < -self.tol and alpha[i] < self.C - eps) or (\n",
    "                    y[i] * E[i] > self.tol and alpha[i] > 0 + eps\n",
    "                ):\n",
    "                    tried += 1\n",
    "                    changed += innerLoop(i)\n",
    "            if tried == 0:\n",
    "                break\n",
    "            print(tried, changed, round)\n",
    "\n",
    "        # generate model\n",
    "        self.w = np.zeros(self.dim)\n",
    "        for i in range(N):\n",
    "            self.w += alpha[i] * y[i] * X[i]\n",
    "\n",
    "        js = np.where(alpha > 0 + self.tol)[0]\n",
    "        for j in js:\n",
    "            self.b += y[j]\n",
    "            for i in range(N):\n",
    "                self.b -= alpha[i] * y[i] * K[i][j]\n",
    "        self.b /= len(js)\n",
    "\n",
    "    def predict(self, X):\n",
    "        \"\"\"\n",
    "        Generate prediction probabilities on a new\n",
    "        collection of data points by your model.\n",
    "        \"\"\"\n",
    "        return np.sign(np.dot(X, self.w) + self.b)"
   ]
  },
  {
   "cell_type": "code",
   "execution_count": 610,
   "metadata": {},
   "outputs": [],
   "source": [
    "class SVM2:\n",
    "    def __init__(self, dim, ):\n",
    "        \"\"\"\n",
    "        Adding other parameters is acceptable but not necessary.\n",
    "        \"\"\"\n",
    "\n",
    "    def fit(self, X, y):\n",
    "        \"\"\"\n",
    "        Fit the coefficients via your method2\n",
    "        \"\"\"\n",
    "        \n",
    "    def predict(self, X):\n",
    "        \"\"\"\n",
    "        A same predict function with SVM1 is acceptable.\n",
    "        \"\"\""
   ]
  },
  {
   "cell_type": "markdown",
   "metadata": {},
   "source": [
    "# construct and train your models"
   ]
  },
  {
   "cell_type": "code",
   "execution_count": 611,
   "metadata": {},
   "outputs": [
    {
     "data": {
      "text/plain": [
       "(array([[ -3.55120693,  -8.76758146,   2.46498197, -14.91545411,\n",
       "           2.62565847,   7.62238294,  -6.26849473,   7.21598377,\n",
       "           6.75655827,   1.1214684 ,  -4.83543785,  -3.48832063,\n",
       "           0.97206736,   7.46857756,  -0.30649137, -14.31598174,\n",
       "           5.4053784 ,   9.52740923, -13.01658403,  -2.01532135],\n",
       "        [ -4.01574956, -17.56847336,  -0.04098731,  10.40260219,\n",
       "          -0.70503513,  11.99551972,   2.95651098,  -9.07596244,\n",
       "         -14.89557101,   1.09387988, -10.84820134,   7.29861279,\n",
       "          -4.66034523, -10.80997853,  -8.97327815,  -0.18188037,\n",
       "           5.57963657,  17.92117208,  -3.77329804,  -1.97646458]]),\n",
       " array([[ -2.02037772, -14.42332345,  -9.30418637, -11.03813262,\n",
       "           6.56607582,  -7.67496152,  -3.10858564,  -1.99492008,\n",
       "          -7.05828704,   5.60365988,  -8.4374468 ,   2.06341138,\n",
       "          -4.88318659,  25.39816605,  15.85513766,   1.09302409,\n",
       "           3.51733868,  -9.88689899,   2.72439621, -12.88484601],\n",
       "        [  4.48543211,  15.27310969,  -5.55773763, -10.89250238,\n",
       "          -3.11082315,  15.08353335,  -7.83972917,   2.58685313,\n",
       "           6.33145356,  -9.15037075, -18.70244319, -11.8343605 ,\n",
       "         -14.92163756,  -1.6612002 ,  -8.37002875,  25.40749851,\n",
       "           0.65040473,  -7.57628125,  -4.98315049,  11.58201713]]),\n",
       " array([[-1.],\n",
       "        [-1.]]),\n",
       " array([[ 1.],\n",
       "        [-1.]]))"
      ]
     },
     "execution_count": 611,
     "metadata": {},
     "output_type": "execute_result"
    }
   ],
   "source": [
    "# generate data\n",
    "X_data, y_data, mislabel = generate_data(20, 10000) \n",
    "\n",
    "# split data\n",
    "# import sklearn.model_selection\n",
    "\n",
    "def train_test_split(X, y, test_rate):\n",
    "    Xy = np.concatenate((X, y), axis=1)\n",
    "    np.random.shuffle(Xy)\n",
    "    tot_size = Xy.shape[0]\n",
    "    test_size = int(test_rate * tot_size)\n",
    "    return Xy[test_size:, 0:-1], Xy[0:test_size, 0:-1], Xy[test_size:, -1:], Xy[0:test_size, -1:]\n",
    "\n",
    "X_train, X_test, y_train, y_test = train_test_split(X_data, y_data, test_rate=0.2)\n",
    "\n",
    "# X_train, X_test, y_train, y_test = sklearn.model_selection.train_test_split(X_data, y_data, test_size=0.2)\n",
    "\n",
    "X_train[:2], X_test[:2], y_train[:2], y_test[:2]"
   ]
  },
  {
   "cell_type": "code",
   "execution_count": 612,
   "metadata": {},
   "outputs": [
    {
     "name": "stdout",
     "output_type": "stream",
     "text": [
      "2285 453 0\n",
      "2362 499 1\n",
      "2508 536 2\n",
      "2749 664 3\n",
      "2857 693 4\n"
     ]
    }
   ],
   "source": [
    "# construct model and train (remember to record your time consumption)\n",
    "model1 = SVM1(dim=X_test.shape[1]) \n",
    "model1.fit(X_train, y_train)"
   ]
  },
  {
   "cell_type": "markdown",
   "metadata": {},
   "source": [
    "# predict and compare your results"
   ]
  },
  {
   "cell_type": "code",
   "execution_count": 613,
   "metadata": {},
   "outputs": [
    {
     "name": "stdout",
     "output_type": "stream",
     "text": [
      "0.875 0.0391\n",
      "0.882125 0.0391\n"
     ]
    }
   ],
   "source": [
    "# make prediction\n",
    "tpred = model1.predict(X_train).reshape(y_train.shape)\n",
    "pred = model1.predict(X_test).reshape(y_test.shape)\n",
    "\n",
    "# compare with generated label\n",
    "\n",
    "rate = np.count_nonzero(np.abs(pred - y_test) < 0.0005) / y_test.shape[0]\n",
    "trate = np.count_nonzero(np.abs(tpred - y_train) < 0.0005) / y_train.shape[0]\n",
    "\n",
    "print(rate, mislabel)\n",
    "print(trate, mislabel)\n",
    "\n",
    "# compare each method(in terms of accuracy, time consumption, etc.)\n",
    "\n",
    "# (Optional) compare with sklearn\n"
   ]
  }
 ],
 "metadata": {
  "kernelspec": {
   "display_name": "Python 3",
   "language": "python",
   "name": "python3"
  },
  "language_info": {
   "codemirror_mode": {
    "name": "ipython",
    "version": 3
   },
   "file_extension": ".py",
   "mimetype": "text/x-python",
   "name": "python",
   "nbconvert_exporter": "python",
   "pygments_lexer": "ipython3",
   "version": "3.9.12"
  },
  "toc": {
   "base_numbering": 1,
   "nav_menu": {},
   "number_sections": true,
   "sideBar": true,
   "skip_h1_title": false,
   "title_cell": "Table of Contents",
   "title_sidebar": "Contents",
   "toc_cell": false,
   "toc_position": {},
   "toc_section_display": true,
   "toc_window_display": false
  }
 },
 "nbformat": 4,
 "nbformat_minor": 4
}
