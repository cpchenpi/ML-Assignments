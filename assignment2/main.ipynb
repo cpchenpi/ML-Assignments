{
 "cells": [
  {
   "cell_type": "code",
   "execution_count": 1,
   "metadata": {},
   "outputs": [],
   "source": [
    "import numpy as np"
   ]
  },
  {
   "cell_type": "markdown",
   "metadata": {},
   "source": [
    "# generate data"
   ]
  },
  {
   "cell_type": "code",
   "execution_count": 2,
   "metadata": {},
   "outputs": [],
   "source": [
    "# In real-world scenarios, learning how the data was generated is impractical. Do not rely on this function while doing research.\n",
    "def generate_data(dim, num):\n",
    "    x = np.random.normal(0, 10, [num, dim])\n",
    "    coef = np.random.uniform(-1, 1, [dim, 1])\n",
    "    pred = np.dot(x, coef)\n",
    "    pred_n = (pred - np.mean(pred)) / np.sqrt(np.var(pred))\n",
    "    label = np.sign(pred_n)\n",
    "    mislabel_value = np.random.uniform(0, 1, num)\n",
    "    mislabel = 0\n",
    "    for i in range(num):\n",
    "        if np.abs(pred_n[i]) < 1 and mislabel_value[i] > 0.9 + 0.1 * np.abs(pred_n[i]):\n",
    "            label[i] *= -1\n",
    "            mislabel += 1\n",
    "    return x, label, mislabel/num"
   ]
  },
  {
   "cell_type": "code",
   "execution_count": 3,
   "metadata": {},
   "outputs": [],
   "source": [
    "# example\n",
    "x, y, mr = generate_data(5, 100)"
   ]
  },
  {
   "cell_type": "code",
   "execution_count": 4,
   "metadata": {},
   "outputs": [
    {
     "data": {
      "text/plain": [
       "(array([[  7.88812335,  -5.46921863,   3.38059797, -28.15434225,\n",
       "           2.14417384],\n",
       "        [ -5.66087585,  -7.41548679,  -5.59424366,  -3.72891721,\n",
       "          -9.2663916 ],\n",
       "        [ -8.73229381,  -2.92748501, -21.82273529,   4.77903556,\n",
       "           5.15883345],\n",
       "        [ -7.31181078,   2.0519744 ,   5.78451543,  -6.05528199,\n",
       "          -4.06333642],\n",
       "        [  9.5983937 ,   8.83955038,   4.21764385, -13.94261699,\n",
       "           8.59393517]]),\n",
       " array([[ 1.],\n",
       "        [-1.],\n",
       "        [-1.],\n",
       "        [-1.],\n",
       "        [ 1.]]))"
      ]
     },
     "execution_count": 4,
     "metadata": {},
     "output_type": "execute_result"
    }
   ],
   "source": [
    "x[:5], y[:5]"
   ]
  },
  {
   "cell_type": "markdown",
   "metadata": {},
   "source": [
    "# write your model class"
   ]
  },
  {
   "cell_type": "code",
   "execution_count": 5,
   "metadata": {},
   "outputs": [],
   "source": [
    "# Modifying the overall structure is acceptable but not recommended\n",
    "class SVM1:\n",
    "    def __init__(self, dim):\n",
    "        \"\"\"\n",
    "        Adding other parameters is acceptable but not necessary.\n",
    "        \"\"\"\n",
    "\n",
    "    def fit(self, X, y):\n",
    "        \"\"\"\n",
    "        Fit the coefficients via your method1\n",
    "        \"\"\"\n",
    "        \n",
    "    def predict(self, X):\n",
    "        \"\"\"\n",
    "        Generate prediction probabilities on a new\n",
    "        collection of data points by your model.\n",
    "        \"\"\""
   ]
  },
  {
   "cell_type": "code",
   "execution_count": 6,
   "metadata": {},
   "outputs": [],
   "source": [
    "class SVM2:\n",
    "    def __init__(self, dim, ):\n",
    "        \"\"\"\n",
    "        Adding other parameters is acceptable but not necessary.\n",
    "        \"\"\"\n",
    "\n",
    "    def fit(self, X, y):\n",
    "        \"\"\"\n",
    "        Fit the coefficients via your method2\n",
    "        \"\"\"\n",
    "        \n",
    "    def predict(self, X):\n",
    "        \"\"\"\n",
    "        A same predict function with SVM1 is acceptable.\n",
    "        \"\"\""
   ]
  },
  {
   "cell_type": "markdown",
   "metadata": {},
   "source": [
    "# construct and train your models"
   ]
  },
  {
   "cell_type": "code",
   "execution_count": 7,
   "metadata": {},
   "outputs": [],
   "source": [
    "# generate data\n",
    "# X_data, y_data, mislabel = generate_data() \n",
    "\n",
    "# split data\n",
    "\n",
    "\n",
    "# construct model and train (remember to record your time consumption)\n",
    "# model1 = SVM1() \n",
    "# model1.fit()\n"
   ]
  },
  {
   "cell_type": "markdown",
   "metadata": {},
   "source": [
    "# predict and compare your results"
   ]
  },
  {
   "cell_type": "code",
   "execution_count": 8,
   "metadata": {},
   "outputs": [],
   "source": [
    "# make prediction\n",
    "# pred = model1.predict()\n",
    "\n",
    "# compare with generated label\n",
    "\n",
    "# compare each method(in terms of accuracy, time consumption, etc.)\n",
    "\n",
    "# (Optional) compare with sklearn\n"
   ]
  }
 ],
 "metadata": {
  "kernelspec": {
   "display_name": "Python 3",
   "language": "python",
   "name": "python3"
  },
  "language_info": {
   "codemirror_mode": {
    "name": "ipython",
    "version": 3
   },
   "file_extension": ".py",
   "mimetype": "text/x-python",
   "name": "python",
   "nbconvert_exporter": "python",
   "pygments_lexer": "ipython3",
   "version": "3.8.5"
  },
  "toc": {
   "base_numbering": 1,
   "nav_menu": {},
   "number_sections": true,
   "sideBar": true,
   "skip_h1_title": false,
   "title_cell": "Table of Contents",
   "title_sidebar": "Contents",
   "toc_cell": false,
   "toc_position": {},
   "toc_section_display": true,
   "toc_window_display": false
  }
 },
 "nbformat": 4,
 "nbformat_minor": 4
}
