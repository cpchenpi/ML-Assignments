{
 "cells": [
  {
   "cell_type": "code",
   "execution_count": 24,
   "metadata": {},
   "outputs": [],
   "source": [
    "import numpy as np"
   ]
  },
  {
   "cell_type": "markdown",
   "metadata": {},
   "source": [
    "# generate data"
   ]
  },
  {
   "cell_type": "code",
   "execution_count": 25,
   "metadata": {},
   "outputs": [],
   "source": [
    "# In real-world scenarios, learning how the data was generated is impractical. Do not rely on this function while doing research.\n",
    "def generate_data(dim, num):\n",
    "    x = np.random.normal(0, 10, [num, dim])\n",
    "    coef = np.random.uniform(-1, 1, [dim, 1])\n",
    "    pred = np.dot(x, coef)\n",
    "    pred_n = (pred - np.mean(pred)) / np.sqrt(np.var(pred))\n",
    "    label = np.sign(pred_n)\n",
    "    mislabel_value = np.random.uniform(0, 1, num)\n",
    "    mislabel = 0\n",
    "    for i in range(num):\n",
    "        if np.abs(pred_n[i]) < 1 and mislabel_value[i] > 0.9 + 0.1 * np.abs(pred_n[i]):\n",
    "            label[i] *= -1\n",
    "            mislabel += 1\n",
    "    return x, label, mislabel/num"
   ]
  },
  {
   "cell_type": "markdown",
   "metadata": {},
   "source": [
    "# write your model class"
   ]
  },
  {
   "cell_type": "code",
   "execution_count": 26,
   "metadata": {},
   "outputs": [],
   "source": [
    "from random import randint\n",
    "\n",
    "\n",
    "# Modifying the overall structure is acceptable but not recommended\n",
    "class SVM1:\n",
    "    def __init__(self, dim, tol=1e-4, C=10):\n",
    "        \"\"\"\n",
    "        Adding other parameters is acceptable but not necessary.\n",
    "        \"\"\"\n",
    "        self.dim = dim\n",
    "        self.w, self.b = np.zeros(dim), 0.0\n",
    "        self.C, self.tol = C, tol\n",
    "\n",
    "    def fit(self, X: np.ndarray, y: np.ndarray, eps=1e-4, max_round=5):\n",
    "        \"\"\"\n",
    "        Fit the coefficients via your method1\n",
    "        \"\"\"\n",
    "        N = X.shape[0]\n",
    "        alpha = np.zeros((N, 1))\n",
    "        b = 0.0\n",
    "        K = X @ (X.transpose())\n",
    "        E = np.zeros((N, 1))\n",
    "\n",
    "        def gi(i):\n",
    "            return K[i] @ (alpha * y) + b\n",
    "\n",
    "        def calcE():\n",
    "            nonlocal E\n",
    "            for i in range(N):\n",
    "                E[i] = gi(i) - y[i]\n",
    "\n",
    "        calcE()\n",
    "\n",
    "        def innerLoop(a1: int):\n",
    "            nonlocal b\n",
    "\n",
    "            def randa2():\n",
    "                a2 = randint(0, N - 1)\n",
    "                while a2 == a1:\n",
    "                    a2 = randint(0, N - 1)\n",
    "                return a2\n",
    "\n",
    "            def run(a2: int):\n",
    "                nonlocal b\n",
    "                # calc new alpha1 and alpha2\n",
    "                L, H = 0, 0\n",
    "                if y[a1] != y[a2]:\n",
    "                    L = max(0, alpha[a2] - alpha[a1])\n",
    "                    H = min(self.C, self.C + alpha[a2] - alpha[a1])\n",
    "                else:\n",
    "                    L = max(0, alpha[a2] + alpha[a1] - self.C)\n",
    "                    H = min(self.C, alpha[a2] + alpha[a1])\n",
    "                if L >= H:\n",
    "                    return 0\n",
    "\n",
    "                def trunc(x):\n",
    "                    return H if x > H else (L if x < L else x)\n",
    "\n",
    "                K11, K22, K12 = K[a1][a1], K[a2][a2], K[a1][a2]\n",
    "                eta = K11 + K22 - 2 * K12\n",
    "\n",
    "                alpha2 = trunc(alpha[a2] + y[a2] * (E[a1] - E[a2]) / eta)\n",
    "                alpha1 = alpha[a1] + y[a1] * y[a2] * (alpha[a2] - alpha2)\n",
    "\n",
    "                # calc b\n",
    "                b1new = (\n",
    "                    -E[a1]\n",
    "                    - y[a1] * K11 * (alpha1 - alpha[a1])\n",
    "                    - y[a2] * K12 * (alpha2 - alpha[a2])\n",
    "                    + b\n",
    "                )\n",
    "                b2new = (\n",
    "                    -E[a2]\n",
    "                    - y[a1] * K12 * (alpha1 - alpha[a1])\n",
    "                    - y[a2] * K22 * (alpha2 - alpha[a2])\n",
    "                    + b\n",
    "                )\n",
    "                if abs(alpha[a2] - alpha2) < eps:\n",
    "                    return 0\n",
    "                alpha[a1], alpha[a2] = alpha1, alpha2\n",
    "                if 0 + eps < alpha[a1] < self.C - eps:\n",
    "                    b = b1new\n",
    "                elif 0 + eps < alpha[a2] < self.C - eps:\n",
    "                    b = b2new\n",
    "                else:\n",
    "                    b = (b1new + b2new) / 2.0\n",
    "                calcE()\n",
    "                return 1\n",
    "\n",
    "            a2 = a1\n",
    "            if E[a1] >= 0:\n",
    "                a2 = E.argmin()\n",
    "            else:\n",
    "                a2 = E.argmax()\n",
    "            a2 = int(a2)\n",
    "            if run(a2) == 0:\n",
    "                a2 = randa2()\n",
    "                return run(a2)\n",
    "            else:\n",
    "                return 1\n",
    "\n",
    "\n",
    "        for round in range(max_round):\n",
    "            tried, changed = 0, 0\n",
    "            for i in range(N):\n",
    "                if (y[i] * E[i] < -self.tol and alpha[i] < self.C - eps) or (\n",
    "                    y[i] * E[i] > self.tol and alpha[i] > 0 + eps\n",
    "                ):\n",
    "                    tried += 1\n",
    "                    changed += innerLoop(i)\n",
    "            if tried == 0:\n",
    "                break\n",
    "            print(tried, changed, round)\n",
    "\n",
    "        # generate model\n",
    "        self.w = np.zeros(self.dim)\n",
    "        for i in range(N):\n",
    "            self.w += alpha[i] * y[i] * X[i]\n",
    "\n",
    "        js = np.where(alpha > eps)[0]\n",
    "        for j in js:\n",
    "            self.b += y[j]\n",
    "            for i in range(N):\n",
    "                self.b -= alpha[i] * y[i] * K[i][j]\n",
    "        self.b /= len(js)\n",
    "\n",
    "    def predict(self, X):\n",
    "        \"\"\"\n",
    "        Generate prediction probabilities on a new\n",
    "        collection of data points by your model.\n",
    "        \"\"\"\n",
    "        return np.sign(np.dot(X, self.w) + self.b)"
   ]
  },
  {
   "cell_type": "code",
   "execution_count": 27,
   "metadata": {},
   "outputs": [],
   "source": [
    "class SVM2:\n",
    "    def __init__(self, dim, C=10):\n",
    "        \"\"\"\n",
    "        Adding other parameters is acceptable but not necessary.\n",
    "        \"\"\"\n",
    "        self.dim = dim + 1\n",
    "        self.w = np.zeros(self.dim)\n",
    "        self.C = C\n",
    "\n",
    "    def gradient(self, X: np.ndarray, y: np.ndarray):\n",
    "        g = np.zeros(self.dim)\n",
    "        cond = np.dot(X, self.w) * y\n",
    "        for i in range(X.shape[0]):\n",
    "            if cond[i] <= 1:\n",
    "                g -= self.C * y[i] * X[i]\n",
    "        g /= X.shape[0]\n",
    "        g += self.w\n",
    "        return g\n",
    "\n",
    "    def loss(self, X: np.ndarray, y: np.ndarray):\n",
    "        res = 0.0\n",
    "        l = 1 - y * np.dot(X, self.w)\n",
    "        res += self.C * np.sum(np.maximum(0, l))\n",
    "        res /= X.shape[0]\n",
    "        res += np.linalg.norm(self.w) / 2.0\n",
    "        return res\n",
    "\n",
    "    def fit(self, X: np.ndarray, y: np.ndarray, lr=0.005, round=2000):\n",
    "        \"\"\"\n",
    "        Fit the coefficients via your method2\n",
    "        \"\"\"\n",
    "        X = np.c_[np.ones(X.shape[0]), X]\n",
    "        y = y.reshape(X.shape[0])\n",
    "        ls = []\n",
    "        for epoch in range(round):\n",
    "            self.w -= lr * self.gradient(X, y)\n",
    "            ls.append(self.loss(X, y))\n",
    "        print(ls[-10:])\n",
    "\n",
    "    def predict(self, X):\n",
    "        \"\"\"\n",
    "        A same predict function with SVM1 is acceptable.\n",
    "        \"\"\"\n",
    "        X = np.c_[np.ones(X.shape[0]), X]\n",
    "        return np.sign(np.dot(X, self.w))"
   ]
  },
  {
   "cell_type": "markdown",
   "metadata": {},
   "source": [
    "# construct and train your models"
   ]
  },
  {
   "cell_type": "code",
   "execution_count": 28,
   "metadata": {},
   "outputs": [
    {
     "name": "stdout",
     "output_type": "stream",
     "text": [
      "0.0379\n"
     ]
    },
    {
     "data": {
      "text/plain": [
       "(array([[ 11.15923943,   0.76187528,  -3.33158839, -19.40620148,\n",
       "          -9.4610596 ,  -3.2952317 ,  26.56361226,  27.56207606,\n",
       "          -7.32457128,   3.53412694,   4.06043977,   7.27333022,\n",
       "          -0.56074602,  -3.2645011 ,  10.12536029,   5.96654826,\n",
       "          -7.13506307, -17.67351485,   4.09080472, -12.71328366],\n",
       "        [  7.32870877,   0.55597057,  11.84869995,  -8.05562468,\n",
       "         -11.57699801,  -2.51182846,   3.45363605,   1.34505454,\n",
       "          -0.17675613,  -3.68081452,  12.38722361, -14.94264211,\n",
       "           8.60564711,   7.63959838,   6.67338868,  -2.3267233 ,\n",
       "          -8.90444577,   4.99222461,  -1.50923607, -20.70451124]]),\n",
       " array([[ 12.90697769,   7.84737897,   6.74136957,   8.3815555 ,\n",
       "           1.52959077,   4.06392425,   2.66887613,  13.21188961,\n",
       "           2.43073194,  -5.94674224,  -3.55813606,  -3.97431792,\n",
       "          -0.97208605, -15.50283716,   6.72866144,  -6.89203085,\n",
       "          10.67696075, -12.55718006,   1.91555406, -23.68559407],\n",
       "        [-15.79586141,   8.97791887,   2.56500238,  -1.66285842,\n",
       "           0.13815004,   3.55803021,  -3.71747794,  11.48470039,\n",
       "         -15.33178096,  -0.90625557,  -0.89730753, -16.23878504,\n",
       "          10.523449  ,   8.01170028,   6.91496075,  24.16833298,\n",
       "         -12.36780704,   4.33770119,   0.64013699,  -6.56882545]]),\n",
       " array([[-1.],\n",
       "        [ 1.]]),\n",
       " array([[-1.],\n",
       "        [ 1.]]))"
      ]
     },
     "execution_count": 28,
     "metadata": {},
     "output_type": "execute_result"
    }
   ],
   "source": [
    "# generate data\n",
    "X_data, y_data, mislabel = generate_data(20, 10000) \n",
    "\n",
    "# split data\n",
    "# import sklearn.model_selection\n",
    "\n",
    "def train_test_split(X, y, test_rate):\n",
    "    Xy = np.concatenate((X, y), axis=1)\n",
    "    np.random.shuffle(Xy)\n",
    "    tot_size = Xy.shape[0]\n",
    "    test_size = int(test_rate * tot_size)\n",
    "    return Xy[test_size:, 0:-1], Xy[0:test_size, 0:-1], Xy[test_size:, -1:], Xy[0:test_size, -1:]\n",
    "\n",
    "X_train, X_test, y_train, y_test = train_test_split(X_data, y_data, test_rate=0.2)\n",
    "\n",
    "# X_train, X_test, y_train, y_test = sklearn.model_selection.train_test_split(X_data, y_data, test_size=0.2)\n",
    "\n",
    "print(mislabel)\n",
    "X_train[:2], X_test[:2], y_train[:2], y_test[:2]"
   ]
  },
  {
   "cell_type": "code",
   "execution_count": 29,
   "metadata": {},
   "outputs": [
    {
     "name": "stdout",
     "output_type": "stream",
     "text": [
      "2355 457 0\n",
      "2325 428 1\n",
      "2648 642 2\n",
      "2659 630 3\n",
      "2932 766 4\n"
     ]
    }
   ],
   "source": [
    "# construct model and train (remember to record your time consumption)\n",
    "model1 = SVM1(dim=X_test.shape[1]) \n",
    "model1.fit(X_train, y_train)"
   ]
  },
  {
   "cell_type": "code",
   "execution_count": 30,
   "metadata": {},
   "outputs": [
    {
     "name": "stdout",
     "output_type": "stream",
     "text": [
      "[1.9496443770684257, 1.949691015426595, 1.9496767376002324, 1.9495915297462918, 1.9495867556586999, 1.949644073649126, 1.9495846688559881, 1.9496117101041714, 1.9496252228036863, 1.9496300608372847]\n"
     ]
    }
   ],
   "source": [
    "model2 = SVM2(dim=X_test.shape[1]) \n",
    "model2.fit(X_train, y_train, round=500)"
   ]
  },
  {
   "cell_type": "code",
   "execution_count": 31,
   "metadata": {},
   "outputs": [
    {
     "data": {
      "text/plain": [
       "SVC()"
      ]
     },
     "execution_count": 31,
     "metadata": {},
     "output_type": "execute_result"
    }
   ],
   "source": [
    "from sklearn import svm\n",
    "model_SVC = svm.SVC()\n",
    "model_SVC.fit(X_train, y_train.flatten())"
   ]
  },
  {
   "cell_type": "code",
   "execution_count": 32,
   "metadata": {},
   "outputs": [
    {
     "data": {
      "text/plain": [
       "LinearSVC(dual=False)"
      ]
     },
     "execution_count": 32,
     "metadata": {},
     "output_type": "execute_result"
    }
   ],
   "source": [
    "from sklearn import svm\n",
    "model_LSVC = svm.LinearSVC(dual=False)\n",
    "model_LSVC.fit(X_train, y_train.flatten())"
   ]
  },
  {
   "cell_type": "markdown",
   "metadata": {},
   "source": [
    "# predict and compare your results"
   ]
  },
  {
   "cell_type": "code",
   "execution_count": 33,
   "metadata": {},
   "outputs": [],
   "source": [
    "def check_model(model):\n",
    "    # make prediction\n",
    "    tpred = model.predict(X_train).reshape(y_train.shape)\n",
    "    pred = model.predict(X_test).reshape(y_test.shape)\n",
    "\n",
    "    # compare with generated label\n",
    "\n",
    "    rate = np.count_nonzero(np.abs(pred - y_test) < 0.0005) / y_test.shape[0]\n",
    "    trate = np.count_nonzero(np.abs(tpred - y_train) < 0.0005) / y_train.shape[0]\n",
    "\n",
    "    print(pred[:10].flatten(), y_test[:10].flatten())\n",
    "\n",
    "    print(rate, trate)"
   ]
  },
  {
   "cell_type": "code",
   "execution_count": 34,
   "metadata": {},
   "outputs": [
    {
     "name": "stdout",
     "output_type": "stream",
     "text": [
      "[-1.  1.  1. -1. -1. -1. -1.  1. -1.  1.] [-1.  1.  1. -1. -1. -1. -1.  1.  1.  1.]\n",
      "0.899 0.8925\n",
      "[-1.  1.  1. -1. -1. -1. -1.  1. -1.  1.] [-1.  1.  1. -1. -1. -1. -1.  1.  1.  1.]\n",
      "0.9555 0.956125\n",
      "[-1.  1.  1. -1. -1. -1. -1.  1. -1.  1.] [-1.  1.  1. -1. -1. -1. -1.  1.  1.  1.]\n",
      "0.9405 0.966625\n",
      "[-1.  1.  1. -1. -1. -1. -1.  1. -1.  1.] [-1.  1.  1. -1. -1. -1. -1.  1.  1.  1.]\n",
      "0.9565 0.95375\n"
     ]
    }
   ],
   "source": [
    "check_model(model1)\n",
    "check_model(model2)\n",
    "check_model(model_SVC)\n",
    "check_model(model_LSVC)"
   ]
  }
 ],
 "metadata": {
  "kernelspec": {
   "display_name": "Python 3",
   "language": "python",
   "name": "python3"
  },
  "language_info": {
   "codemirror_mode": {
    "name": "ipython",
    "version": 3
   },
   "file_extension": ".py",
   "mimetype": "text/x-python",
   "name": "python",
   "nbconvert_exporter": "python",
   "pygments_lexer": "ipython3",
   "version": "3.9.12"
  },
  "toc": {
   "base_numbering": 1,
   "nav_menu": {},
   "number_sections": true,
   "sideBar": true,
   "skip_h1_title": false,
   "title_cell": "Table of Contents",
   "title_sidebar": "Contents",
   "toc_cell": false,
   "toc_position": {},
   "toc_section_display": true,
   "toc_window_display": false
  }
 },
 "nbformat": 4,
 "nbformat_minor": 4
}
