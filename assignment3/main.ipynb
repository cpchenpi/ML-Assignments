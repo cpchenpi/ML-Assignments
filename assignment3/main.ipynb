{
 "cells": [
  {
   "cell_type": "markdown",
   "metadata": {},
   "source": [
    "### Load Data"
   ]
  },
  {
   "cell_type": "code",
   "execution_count": 653,
   "metadata": {},
   "outputs": [
    {
     "data": {
      "text/plain": [
       "(788, 2)"
      ]
     },
     "execution_count": 653,
     "metadata": {},
     "output_type": "execute_result"
    }
   ],
   "source": [
    "import numpy as np\n",
    "\n",
    "name, K = \"Datasets/Aggregation.txt\", 7\n",
    "# name, K = \"Datasets/D31.txt\", 31\n",
    "# name, K = \"Datasets/R15.txt\", 15\n",
    "X= np.loadtxt(name)\n",
    "m = X.shape[0]\n",
    "X.shape"
   ]
  },
  {
   "cell_type": "markdown",
   "metadata": {},
   "source": [
    "### Calculate Distance Matrix"
   ]
  },
  {
   "cell_type": "code",
   "execution_count": 654,
   "metadata": {},
   "outputs": [
    {
     "data": {
      "text/plain": [
       "(788, 788)"
      ]
     },
     "execution_count": 654,
     "metadata": {},
     "output_type": "execute_result"
    }
   ],
   "source": [
    "def calc_dist_matrix(X: np.ndarray) -> np.ndarray:\n",
    "    prod = X @ X.transpose()\n",
    "    self_prod = np.diagonal(prod, axis1=0, axis2=1)\n",
    "    return np.sqrt(-2 * prod + self_prod + self_prod[:, np.newaxis])\n",
    "\n",
    "\n",
    "D = calc_dist_matrix(X)\n",
    "D.shape"
   ]
  },
  {
   "cell_type": "markdown",
   "metadata": {},
   "source": [
    "### Calc $\\rho$ and $\\delta$"
   ]
  },
  {
   "cell_type": "code",
   "execution_count": 655,
   "metadata": {},
   "outputs": [
    {
     "data": {
      "text/plain": [
       "(1.8601075237738232, 38.81546083714581, 0.11180339887493865)"
      ]
     },
     "execution_count": 655,
     "metadata": {},
     "output_type": "execute_result"
    }
   ],
   "source": [
    "# Using 1-2% quantile as d_c\n",
    "def calc_dc(D: np.ndarray, rate=0.02):\n",
    "    allD = D[np.triu_indices(m, 1)]\n",
    "    return np.quantile(allD, rate), np.max(allD), np.min(allD)\n",
    "\n",
    "\n",
    "dc, maxd, mind = calc_dc(D)\n",
    "dc, maxd, mind"
   ]
  },
  {
   "cell_type": "code",
   "execution_count": 656,
   "metadata": {},
   "outputs": [
    {
     "data": {
      "text/plain": [
       "array([ 3.18135683,  5.47687217,  7.05878561,  6.98294232,  9.67023154,\n",
       "        9.85644021,  7.56009576, 10.77722227,  8.75625192, 12.44131178])"
      ]
     },
     "execution_count": 656,
     "metadata": {},
     "output_type": "execute_result"
    }
   ],
   "source": [
    "def calc_rho(D: np.ndarray, dc: np.float64, method=\"gaussian\") -> np.ndarray:\n",
    "    if method == \"gaussian\":\n",
    "        return np.sum(np.exp(-((D / dc) ** 2)), axis=-1) - 1\n",
    "    else:\n",
    "        return np.sum(D < dc, axis=-1) - 1  # exclude self\n",
    "\n",
    "\n",
    "rho = calc_rho(D, dc)\n",
    "rho[:10]"
   ]
  },
  {
   "cell_type": "code",
   "execution_count": 657,
   "metadata": {},
   "outputs": [
    {
     "data": {
      "text/plain": [
       "(array([1.14017543, 0.91787799, 0.76157731, 0.54083269, 0.56568542]),\n",
       " array([2, 2, 4, 2, 5]))"
      ]
     },
     "execution_count": 657,
     "metadata": {},
     "output_type": "execute_result"
    }
   ],
   "source": [
    "def calc_delta(D: np.ndarray, rho: np.ndarray):\n",
    "    delta = np.zeros(rho.shape)\n",
    "    neigh = np.zeros(rho.shape, dtype=int)\n",
    "    for i in range(m):\n",
    "        j_list = np.where(rho > rho[i])[0]\n",
    "        if len(j_list):\n",
    "            delta[i] = np.min(D[i][j_list])\n",
    "            neigh[i] = j_list[np.argmin(D[i][j_list])]\n",
    "        else:\n",
    "            delta[i] = np.max(D[i])\n",
    "    return delta, neigh\n",
    "\n",
    "delta, neigh = calc_delta(D, rho)\n",
    "delta[:5], neigh[:5]"
   ]
  },
  {
   "cell_type": "markdown",
   "metadata": {},
   "source": [
    "### Plot Decision Graph"
   ]
  },
  {
   "cell_type": "code",
   "execution_count": 658,
   "metadata": {},
   "outputs": [
    {
     "data": {
      "image/png": "[encoded data removed]",
      "text/plain": [
       "<Figure size 432x288 with 1 Axes>"
      ]
     },
     "metadata": {
      "needs_background": "light"
     },
     "output_type": "display_data"
    }
   ],
   "source": [
    "def plot_decision_graph(delta: np.ndarray, rho: np.ndarray):\n",
    "    import matplotlib.pyplot as plt\n",
    "    fig = plt.figure()\n",
    "    ax1 = fig.add_subplot()\n",
    "    # Setting graph title\n",
    "    ax1.set_title('Decision Graph')\n",
    "    # Setting label for x-axis\n",
    "    plt.xlabel('rho')\n",
    "    # Setting label for y-axis\n",
    "    plt.ylabel('delta')\n",
    "    # Plot the scatter graph\n",
    "    ax1.scatter(rho, delta)\n",
    "    # Show the graph\n",
    "    plt.show()\n",
    "\n",
    "plot_decision_graph(delta=delta, rho=rho)"
   ]
  },
  {
   "cell_type": "markdown",
   "metadata": {},
   "source": [
    "### Select Cluster Centers"
   ]
  },
  {
   "cell_type": "code",
   "execution_count": 659,
   "metadata": {},
   "outputs": [
    {
     "data": {
      "text/plain": [
       "array([319, 613,  59, 723, 768, 190, 555], dtype=int64)"
      ]
     },
     "execution_count": 659,
     "metadata": {},
     "output_type": "execute_result"
    }
   ],
   "source": [
    "def select_centers(rho: np.ndarray, delta: np.ndarray, K: int):\n",
    "    return np.argsort(-rho * delta)[:K]\n",
    "\n",
    "\n",
    "centers = select_centers(rho, delta, K)\n",
    "centers"
   ]
  },
  {
   "cell_type": "code",
   "execution_count": 660,
   "metadata": {},
   "outputs": [
    {
     "data": {
      "text/plain": [
       "array([2, 2, 2, 2, 2])"
      ]
     },
     "execution_count": 660,
     "metadata": {},
     "output_type": "execute_result"
    }
   ],
   "source": [
    "def choose_cluster(neigh: np.ndarray, centers: np.ndarray, rho: np.ndarray):\n",
    "    cluster = np.array([-1] * m)\n",
    "    for c, i in enumerate(centers):\n",
    "        cluster[i] = c\n",
    "    for i in np.argsort(-rho):\n",
    "        if cluster[i] == -1:\n",
    "            cluster[i] = cluster[neigh[i]]\n",
    "    return cluster\n",
    "\n",
    "cluster = choose_cluster(neigh, centers, rho)\n",
    "cluster[:5]"
   ]
  },
  {
   "cell_type": "markdown",
   "metadata": {},
   "source": [
    "### Evaluation Metrics"
   ]
  },
  {
   "cell_type": "code",
   "execution_count": 661,
   "metadata": {},
   "outputs": [
    {
     "data": {
      "text/plain": [
       "0.5035680502991704"
      ]
     },
     "execution_count": 661,
     "metadata": {},
     "output_type": "execute_result"
    }
   ],
   "source": [
    "import sklearn.metrics\n",
    "\n",
    "sklearn.metrics.davies_bouldin_score(X, cluster)"
   ]
  },
  {
   "cell_type": "markdown",
   "metadata": {},
   "source": [
    "### Draw Visualization Graph"
   ]
  },
  {
   "cell_type": "code",
   "execution_count": 662,
   "metadata": {},
   "outputs": [
    {
     "data": {
      "image/png": "[encoded data removed]",
      "text/plain": [
       "<Figure size 432x288 with 1 Axes>"
      ]
     },
     "metadata": {
      "needs_background": "light"
     },
     "output_type": "display_data"
    }
   ],
   "source": [
    "def plot_visualization_graph(X: np.ndarray, cluster: np.ndarray):\n",
    "    import matplotlib.pyplot as plt\n",
    "    fig = plt.figure()\n",
    "    ax1 = fig.add_subplot()\n",
    "    ax1.set_title(\"Visualization Graph\")\n",
    "    plt.xlabel(\"x\")\n",
    "    plt.ylabel(\"y\")\n",
    "    c = cluster.shape[0]\n",
    "    for i in range(c):\n",
    "        idxs = np.where(cluster == i)\n",
    "        pnts = X[idxs]\n",
    "        ax1.scatter(pnts[:, 0], pnts[:, 1], color=np.random.rand(3))\n",
    "    # Show the graph\n",
    "    plt.show()\n",
    "\n",
    "\n",
    "plot_visualization_graph(X, cluster)"
   ]
  }
 ],
 "metadata": {
  "kernelspec": {
   "display_name": "base",
   "language": "python",
   "name": "python3"
  },
  "language_info": {
   "codemirror_mode": {
    "name": "ipython",
    "version": 3
   },
   "file_extension": ".py",
   "mimetype": "text/x-python",
   "name": "python",
   "nbconvert_exporter": "python",
   "pygments_lexer": "ipython3",
   "version": "3.9.12"
  }
 },
 "nbformat": 4,
 "nbformat_minor": 2
}
